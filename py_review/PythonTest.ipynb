{
  "nbformat": 4,
  "nbformat_minor": 0,
  "metadata": {
    "colab": {
      "name": "PythonTest.ipynb",
      "provenance": [],
      "collapsed_sections": []
    },
    "kernelspec": {
      "name": "python3",
      "display_name": "Python 3"
    }
  },
  "cells": [
    {
      "cell_type": "markdown",
      "metadata": {
        "id": "VXuBXRROTZtX",
        "colab_type": "text"
      },
      "source": [
        "**Python Class Test**"
      ]
    },
    {
      "cell_type": "markdown",
      "metadata": {
        "id": "gsZpQKZbS4tR",
        "colab_type": "text"
      },
      "source": [
        "**Problem #1**:<br>\n",
        "1. Create a class called MyStack, that will have the following design.  It will implement the usual “stack” interface consisting of .push() and .pop().  Create the class code to implement the following calls:<br>\n",
        "St = MyStack()<br>\n",
        "St = MyStack([‘fred’,’harry’,’Voldy’])<br>\n",
        "St.push(‘Hermione’)<br>\n",
        "val = St.pop()<br>\n",
        "if val != None: print(val)<br>\n",
        "\n",
        "In other words: \n",
        "- the constructor can take no arguments, or it can take a list.  The elements of the list will be pushed onto the stack in the list order.\n",
        "- .push(val) will take a value and push it onto the stack\n",
        "- .pop() will return a value and remove it from the stack, or will return None, if the stack is empty.<br>\n",
        "The internal storage for the stack should be a list.  An **implementation restriction:** the list can only grow (as needed) but can never shrink – imagine, for instance, if the computational cost for shrinking the list by even one element is very large, especially for very large lists.\n"
      ]
    },
    {
      "cell_type": "code",
      "metadata": {
        "id": "ErbJLlw6Titc",
        "colab_type": "code",
        "colab": {}
      },
      "source": [
        "class MyStack:\n",
        "\n",
        "  def __init__(self,in_list = None):\n",
        "    self.storage = []\n",
        "    self.filled = 0    # will keep track of how many slots in self.storage are actually filled\n",
        "    if in_list != None:   # there are more efficient ways to initialize than this, but...\n",
        "        for val in in_list:\n",
        "          self.push(val)\n",
        "\n",
        "  def push(self,val):\n",
        "    if self.filled == len(self.storage):\n",
        "      self.storage.append(val)\n",
        "    else:\n",
        "      self.storage[self.filled] = val\n",
        "    self.filled += 1\n",
        "\n",
        "  def pop(self):\n",
        "    if self.filled == 0:\n",
        "      return None\n",
        "    self.filled -= 1\n",
        "    return self.storage[self.filled]\n"
      ],
      "execution_count": 0,
      "outputs": []
    },
    {
      "cell_type": "code",
      "metadata": {
        "id": "Qr6MfYnLZJ6y",
        "colab_type": "code",
        "colab": {}
      },
      "source": [
        "# Test MyStack\n",
        "st = MyStack([1,2,3])\n",
        "st.push(4)\n",
        "print('4?',st.pop())\n",
        "st.pop()\n",
        "st.pop()\n",
        "print('1?',st.pop())\n",
        "print('None?',st.pop())\n",
        "print('peek at the internals: filled and storage',st.filled,st.storage)"
      ],
      "execution_count": 0,
      "outputs": []
    },
    {
      "cell_type": "markdown",
      "metadata": {
        "id": "sxgAQSpwaPx2",
        "colab_type": "text"
      },
      "source": [
        "**Problem #2:**<br>\n",
        "2. Imagine that you can import a stack class (import stack), which comes with only two normal methods: push() and pop().  The .pop() will return None if the stack is empty.  You have no access to the internals of how the stack stores its data.  <br>\n",
        "Create the function StackHas(astack, avalue) which will be given a stack instance (astack), and a value (avalue) and will return True if avalue is stored in astack and False otherwise.   When the function returns, the stack must not be different from what it was prior to the function call.  Be kind to the machine, and try to code efficiently.\n"
      ]
    },
    {
      "cell_type": "code",
      "metadata": {
        "id": "CkEqRoESaXZu",
        "colab_type": "code",
        "colab": {}
      },
      "source": [
        "def StackHas(astack,avalue):\n",
        "  temp = []    # store the values here that you've popped off the stack\n",
        "  found = False\n",
        "\n",
        "  testval = astack.pop()\n",
        "  while testval != None:\n",
        "    if testval == avalue:\n",
        "      found = True\n",
        "      temp.append(testval)\n",
        "      break\n",
        "    temp.append(testval)\n",
        "    testval = astack.pop()\n",
        "\n",
        "  # retore the values you've popped off the stack\n",
        "  for val in temp[::-1]:\n",
        "    astack.push(val)\n",
        "  \n",
        "  return found\n",
        "  "
      ],
      "execution_count": 0,
      "outputs": []
    },
    {
      "cell_type": "code",
      "metadata": {
        "id": "5NK1pGs6dW7o",
        "colab_type": "code",
        "colab": {}
      },
      "source": [
        "# Test problem #2\n",
        "astack = MyStack([1,6,2,9,8,6,8,2,1,6,3])\n",
        "print('internals initially:               ',astack.filled,astack.storage)\n",
        "print('StackHas(astack,2): True',StackHas(astack,2))\n",
        "print('internals after StackHas(astack,6):',astack.filled,astack.storage)\n",
        "print('StackHas(astack,-3): False',StackHas(astack,-3))\n",
        "print('internals after StackHas(astack,6):',astack.filled,astack.storage)\n"
      ],
      "execution_count": 0,
      "outputs": []
    },
    {
      "cell_type": "markdown",
      "metadata": {
        "id": "tQF8aeUXEiTb",
        "colab_type": "text"
      },
      "source": [
        "**Problem #3:**<br>\n",
        "3. We wish to invert a dictionary.<br>  \n",
        "Suppose we have a dictionary of each person’s absolutely least favorite food:<br><br>\n",
        "yuck = {‘harry’:’broccoli’, ‘ron’:’sprouts’, \n",
        "‘voldy’:’matzoh balls’, ‘hermione’:’tripe’, \n",
        "‘draco’:’matzoh balls’}<br><br>\n",
        "We want to create a new dictionary from the one above in which we can look up the food and get the person or people who hate it.  So we’ll invert the dictionary above to get:<br><br>\n",
        "kcuy = {‘sprouts’:’ron’, ‘matzoh balls’:[‘voldy’,’draco’],\n",
        "‘broccoli’:’harry’,’tripe’:’hermione’}<br><br>\n",
        "Notice that some of the values are strings (e.g. ‘potter’) and some are now lists (e.g. [‘voldy’,’draco’]).  This is natural, since more than one key in the original dictionary may have the same value.<br><br>\n",
        "Create the general function InvertDict(dct) which will be given a dictionary dct and will return the inverted dictionary.  Note that the input dictionary must have the property that all of its values are immutable – this is necessary because only immutable values can be keys.<br><br> \n",
        "You will probably want to use the built-in function type().  Here are examples of its usage:\n",
        ">>> a='fred'<br>\n",
        ">>> b=['harry',2]<br>\n",
        ">>> type(a)==type('')<br>\n",
        "True<br>\n",
        ">>> type(a)==type([])<br>\n",
        "False<br>\n",
        ">>> type(b)==type('')<br>\n",
        "False<br>\n",
        ">>> type(b)==type([])<br>\n",
        "True<br>\n"
      ]
    },
    {
      "cell_type": "code",
      "metadata": {
        "id": "DY9syzw-FSx1",
        "colab_type": "code",
        "colab": {}
      },
      "source": [
        "def InvertDict(dct):\n",
        "  answer = {}\n",
        "  for key in dct.keys():\n",
        "    val = dct[key]\n",
        "    if val in answer:\n",
        "      if type(answer[val]) == type([]):  # it's already a list, just append the key\n",
        "        answer[val] += [key]\n",
        "      else:\n",
        "        answer[val] = [answer[val],key]  # it was a string, create a list out of that string and the new key\n",
        "    else:\n",
        "      answer[val] = key  # it's the first entry, so just a string\n",
        "  \n",
        "  return answer"
      ],
      "execution_count": 0,
      "outputs": []
    },
    {
      "cell_type": "code",
      "metadata": {
        "id": "1Ogc-uyuG9fN",
        "colab_type": "code",
        "colab": {}
      },
      "source": [
        "#  Test:\n",
        "print(\"InvertDict({1:'one',2:'two', 3:'three','uno':'one','only':'one'}): \",\"{'one': [1, 'uno', 'only'], 'two': 2, 'three': 3}\")\n",
        "print(InvertDict({1:'one',2:'two', 3:'three','uno':'one','only':'one'}))"
      ],
      "execution_count": 0,
      "outputs": []
    },
    {
      "cell_type": "code",
      "metadata": {
        "id": "M_Hf3NyFvVPp",
        "colab_type": "code",
        "colab": {}
      },
      "source": [
        ""
      ],
      "execution_count": 0,
      "outputs": []
    }
  ]
}