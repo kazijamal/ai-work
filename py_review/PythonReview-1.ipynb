{
 "cells": [
  {
   "cell_type": "markdown",
   "execution_count": 1,
   "metadata": {},
   "outputs": [
    {
     "ename": "IndentationError",
     "evalue": "unexpected indent (<ipython-input-1-8cbb0eab9221>, line 3)",
     "output_type": "error",
     "traceback": [
      "\u001b[0;36m  File \u001b[0;32m\"<ipython-input-1-8cbb0eab9221>\"\u001b[0;36m, line \u001b[0;32m3\u001b[0m\n\u001b[0;31m    I'm presuming that you know how to create dictionaries, lists and strings, and you remember indexing and slicing.\u001b[0m\n\u001b[0m    ^\u001b[0m\n\u001b[0;31mIndentationError\u001b[0m\u001b[0;31m:\u001b[0m unexpected indent\n"
     ]
    }
   ],
   "source": [
    "# Python Review 1#\n",
    "\n",
    " I'm presuming that you know how to create dictionaries, lists and strings, and you remember indexing and slicing.\n",
    " \n",
    " Here are some quickie Python resources:\n",
    " \n",
    " 1. **PQR**: [Excellent single-page listing of Python methods](http://rgruet.free.fr/PQR27/PQR2.7.html) (I've bookmarked this for daily use)\n",
    " 2. [My Python (2.7) cribsheet](http://bert.stuy.edu/pbrooks/cribsheets/Python-sheet.pdf)\n",
    " 3. [Another set of quick links to Python explanations](http://bert.stuy.edu/pbrooks/IntroResources/TOC.html)\n",
    " \n",
    " Review all of the Python resources in #2 and #3 above.  #1 is primarily for reference.\n",
    " \n"
   ]
  },
  {
   "cell_type": "markdown",
   "metadata": {},
   "source": [
    "### Multiple returns and tuples ###\n",
    "\n",
    "* Functions returning more than one value into separate variables, or into a tuple (remember tuples?):\n",
    "\n",
    "```\n",
    "def fred(n):\n",
    "   # will return n, sqrt of n, and n squared\n",
    "   return n,n**.5,n*n\n",
    "\n",
    "a,b,c = fred(5)\n",
    "# or\n",
    "tple = fred(5)\n",
    "```\n",
    "* Tuples are just like lists, except that they are immutable (and therefore they can be used as keys in dictionaries).\n",
    "* You can convert from lists to tuples and vice versa with the `list()` and `tuple()` functions\n"
   ]
  },
  {
   "cell_type": "code",
   "execution_count": 3,
   "metadata": {},
   "outputs": [
    {
     "name": "stdout",
     "output_type": "stream",
     "text": "(3, 'cubed', 27)\n[3, 'cubed', 27]\n[0, 'cubed', 27]\n"
    }
   ],
   "source": [
    "# Play here with multiple return values and tuples\n",
    "def cube(n):\n",
    "    return n, 'cubed', n*n*n\n",
    "\n",
    "t = cube(3)\n",
    "print(t)\n",
    "l = list(t)\n",
    "print(l)\n",
    "l[0] = 0\n",
    "print(l)"
   ]
  },
  {
   "cell_type": "markdown",
   "metadata": {},
   "source": [
    "### Playing with dictionaries ###\n",
    "\n",
    "* Let's create a dictionary: `d = {'one':1,'two':2,'three':455}`\n",
    "* See what the `list()` function does on it\n",
    "* You can tell whether a key is in the dictionary with `if 'four' in d:`\n",
    "* To convert another collection into a dictionary, we need both key and value for each entry, so this list might have enough information to allow it to be converted into a dictionary: `a = [['one',1],['two','fleep']]`.  Try the `dict()` conversion function on it.\n",
    "* You can get a dictionary's keys via: `d.keys()`"
   ]
  },
  {
   "cell_type": "code",
   "execution_count": 0,
   "metadata": {},
   "outputs": [],
   "source": [
    "# Playtime with dictionaries\n",
    "d = {'dog': 'woof', 'cat': 'meow', 'cow': 'moo'}\n",
    "print(d)\n",
    "keys = list(d)\n",
    "print(l)\n",
    "print('dog' in d)\n",
    "print('fish' in d)\n",
    "a = [['fish', 'bloop'], ['dinosaur', 'rawr']]\n",
    "print(a)\n",
    "d2 = dict(a)\n",
    "print(d2)\n",
    "keys2 = d2.keys()\n",
    "print(keys2)"
   ]
  },
  {
   "cell_type": "markdown",
   "metadata": {},
   "source": [
    "### Sets ###\n",
    "* A set is a collection of unique items.  The items, themselves, are imutable (you can't reach into a set and modify one of its elements like you can do to an element of a list)\n",
    "* Lots of good operations on sets (here are the quick docs that the [PQR](http://rgruet.free.fr/PQR27/PQR2.7.html#set) page provides)\n",
    "* The `set()`function will convert a list into a set -- and since the set can contain only unique elements, this eliminates all duplicates during the conversion."
   ]
  },
  {
   "cell_type": "code",
   "execution_count": 43,
   "metadata": {},
   "outputs": [
    {
     "name": "stdout",
     "output_type": "stream",
     "text": "{1, 3, 5}\n{1, 3, 5}\n[1, 2, 3, 4, 5, 5, 5]\n{1, 2, 3, 4, 5}\n5\nTrue\nFalse\n{2, 3, 4, 5}\n{1, 2, 3, 4, 5}\n{1, 3, 5}\n"
    }
   ],
   "source": [
    "# Playtime with sets\n",
    "s = {1, 3, 5}\n",
    "print(s)\n",
    "s2 = {1, 1, 3, 5}\n",
    "print(s2)\n",
    "l = [1, 2, 3, 4, 5, 5, 5]\n",
    "print(l)\n",
    "s3 = set(l)\n",
    "print(s3)\n",
    "print(len(s3))\n",
    "print(s.issubset(s2))\n",
    "print(s3.issubset(s2))\n",
    "s3.pop()\n",
    "print(s3)\n",
    "s3.add(1)\n",
    "print(s3)\n",
    "print(s2.intersection(s3))"
   ]
  },
  {
   "cell_type": "markdown",
   "metadata": {},
   "source": [
    "#### Play with [list comprehensions](http://bert.stuy.edu/pbrooks/IntroResources/PythonAdvancedConstructs.htm) ####"
   ]
  },
  {
   "cell_type": "code",
   "execution_count": 65,
   "metadata": {},
   "outputs": [
    {
     "name": "stdout",
     "output_type": "stream",
     "text": "[2, 4, 6, 8, 10]\n[1, 3, 5, 7, 9]\n[1, 9, 25, 49, 81]\n[81]\n893025\n893025\n81\n"
    }
   ],
   "source": [
    "# Play here\n",
    "even = [2, 4, 6, 8, 10]\n",
    "print(even)\n",
    "odd = [x-1 for x in even]\n",
    "print(odd)\n",
    "def square(x):\n",
    "    return x*x\n",
    "squared = [square(x) for x in odd]\n",
    "print(squared)\n",
    "bigsquares = [x for x in squared if x > 50]\n",
    "print(bigsquares)\n",
    "def multiply(x, y):\n",
    "    return x*y\n",
    "from functools import reduce\n",
    "m = reduce(multiply, squared)\n",
    "print(m)\n",
    "m2 = reduce(lambda x,y: x*y, squared)\n",
    "print(m2)\n",
    "max = reduce(lambda x,y: x if x>y else y, squared)\n",
    "print(max)"
   ]
  },
  {
   "cell_type": "code",
   "execution_count": null,
   "metadata": {},
   "outputs": [],
   "source": []
  }
 ],
 "metadata": {
  "kernelspec": {
   "display_name": "Python 3",
   "language": "python",
   "name": "python3"
  },
  "language_info": {
   "codemirror_mode": {
    "name": "ipython",
    "version": 3
   },
   "file_extension": ".py",
   "mimetype": "text/x-python",
   "name": "python",
   "nbconvert_exporter": "python",
   "pygments_lexer": "ipython3",
   "version": "3.7.4-final"
  }
 },
 "nbformat": 4,
 "nbformat_minor": 2
}